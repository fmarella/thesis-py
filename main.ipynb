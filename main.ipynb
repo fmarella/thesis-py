{
 "metadata": {
  "name": "",
  "signature": "sha256:52f37a169041fff13abae9853c3f34fa3918bc04eaa9009ed1bd3adcafde57fd"
 },
 "nbformat": 3,
 "nbformat_minor": 0,
 "worksheets": [
  {
   "cells": [
    {
     "cell_type": "code",
     "collapsed": false,
     "input": [
      "import numpy\n",
      "from scipy.io import arff\n",
      "from sklearn import svm\n",
      "from sklearn.neighbors import KNeighborsClassifier\n",
      "from sklearn import cross_validation\n",
      "from sklearn.metrics import accuracy_score\n",
      "from sklearn.decomposition import PCA\n",
      "\n",
      "\n",
      "data, meta = arff.loadarff(\"/home/fmarella/Documenti/materiale_tesi/NASA-SoftwareDefectDataSets/MDP/D'/CM1.arff\")\n",
      "meta\n",
      "print(len(data))"
     ],
     "language": "python",
     "metadata": {},
     "outputs": [
      {
       "output_type": "stream",
       "stream": "stdout",
       "text": [
        "344\n"
       ]
      }
     ],
     "prompt_number": 2
    },
    {
     "cell_type": "code",
     "collapsed": false,
     "input": [
      "new_data = numpy.asarray(data.tolist())"
     ],
     "language": "python",
     "metadata": {},
     "outputs": [],
     "prompt_number": 3
    },
    {
     "cell_type": "code",
     "collapsed": false,
     "input": [
      "kf = cross_validation.KFold(len(data), n_folds=10, shuffle=True)\n",
      "len(kf)"
     ],
     "language": "python",
     "metadata": {},
     "outputs": [
      {
       "metadata": {},
       "output_type": "pyout",
       "prompt_number": 23,
       "text": [
        "10"
       ]
      }
     ],
     "prompt_number": 23
    },
    {
     "cell_type": "raw",
     "metadata": {},
     "source": [
      "#for train_index, test_index in kf:\n",
      "#    #print(\"Train indexes:\", train_index, \"\\nTest indexes:\", test_index)\n",
      "#    X_train = data[train_index]\n",
      "#    X_test = data[test_index]\n",
      "    \n",
      "    # fit the model\n",
      "#    clf = svm.SVC()\n",
      "    #clf.fi\n",
      "-c:1: DeprecationWarningt(features, labels)"
     ]
    },
    {
     "cell_type": "code",
     "collapsed": false,
     "input": [
      "split_at = int(len(new_data) * 0.75)\n",
      "\n",
      "train_data = [d[:-1] for d in new_data[:split_at]]\n",
      "train_labels = [d[-1] for d in new_data[:split_at]]\n",
      "\n",
      "test_data = [d[:-1] for d in new_data[split_at:]]\n",
      "test_labels = [d[-1] for d in new_data[split_at:]]"
     ],
     "language": "python",
     "metadata": {},
     "outputs": [],
     "prompt_number": 4
    },
    {
     "cell_type": "code",
     "collapsed": false,
     "input": [
      "clf = svm.SVC(probability=True)\n",
      "clf.fit(train_data, train_labels)\n",
      "pred_labels = clf.predict(test_data)\n",
      "print(\"SVM Accuracy:\", round(accuracy_score(test_labels, pred_labels) * 100, 3), '%')"
     ],
     "language": "python",
     "metadata": {},
     "outputs": [
      {
       "output_type": "stream",
       "stream": "stdout",
       "text": [
        "SVM Accuracy: 84.884 %\n"
       ]
      },
      {
       "output_type": "stream",
       "stream": "stderr",
       "text": [
        "/usr/lib/python3.4/site-packages/sklearn/svm/base.py:233: DeprecationWarning: using a non-integer number instead of an integer will result in an error in the future\n",
        "  max_iter=self.max_iter, random_seed=random_seed)\n",
        "/usr/lib/python3.4/site-packages/sklearn/svm/base.py:233: DeprecationWarning: using a non-integer number instead of an integer will result in an error in the future\n",
        "  max_iter=self.max_iter, random_seed=random_seed)\n",
        "/usr/lib/python3.4/site-packages/sklearn/svm/base.py:233: DeprecationWarning: using a non-integer number instead of an integer will result in an error in the future\n",
        "  max_iter=self.max_iter, random_seed=random_seed)\n"
       ]
      }
     ],
     "prompt_number": 5
    },
    {
     "cell_type": "code",
     "collapsed": false,
     "input": [
      "knn = KNeighborsClassifier()\n",
      "knn.fit(train_data, train_labels)"
     ],
     "language": "python",
     "metadata": {},
     "outputs": [
      {
       "metadata": {},
       "output_type": "pyout",
       "prompt_number": 112,
       "text": [
        "KNeighborsClassifier(algorithm='auto', leaf_size=30, metric='minkowski',\n",
        "           n_neighbors=5, p=2, weights='uniform')"
       ]
      }
     ],
     "prompt_number": 112
    }
   ],
   "metadata": {}
  }
 ]
}