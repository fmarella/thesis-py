{
 "metadata": {
  "name": "",
  "signature": "sha256:bbce6de8e8e0dab8fc92072f2cdee123eb9f1483fb2f875d0c2dbe26becf8233"
 },
 "nbformat": 3,
 "nbformat_minor": 0,
 "worksheets": [
  {
   "cells": [
    {
     "cell_type": "code",
     "collapsed": false,
     "input": [
      "import numpy\n",
      "from scipy.io import arff\n",
      "from sklearn import svm\n",
      "from sklearn.neighbors import KNeighborsClassifier\n",
      "from sklearn import cross_validation\n",
      "from sklearn.metrics import accuracy_score\n",
      "from sklearn.decomposition import PCA\n",
      "\n",
      "\n",
      "data, meta = arff.loadarff(\"/home/fmarella/Documenti/materiale_tesi/NASA-SoftwareDefectDataSets/MDP/D'/CM1.arff\")\n",
      "meta\n",
      "print(len(data))"
     ],
     "language": "python",
     "metadata": {},
     "outputs": [
      {
       "output_type": "stream",
       "stream": "stdout",
       "text": [
        "344\n"
       ]
      }
     ],
     "prompt_number": 103
    },
    {
     "cell_type": "code",
     "collapsed": false,
     "input": [
      "new_data = numpy.asarray(data.tolist())"
     ],
     "language": "python",
     "metadata": {},
     "outputs": [
      {
       "metadata": {},
       "output_type": "pyout",
       "prompt_number": 86,
       "text": [
        "array([b'6.0', b'9.0', b'2.0', b'1.0', b'0.0', b'16.0', b'5.0', b'0.2',\n",
        "       b'8.0', b'2.0', b'3.0', b'0.6', b'17.0', b'1.0', b'0.0', b'24.0',\n",
        "       b'3.0', b'32.54', b'9.5', b'2936.77', b'0.1', b'63.0', b'0.11',\n",
        "       b'163.15', b'309.13', b'0.2', b'4.0', b'8.0', b'14.0', b'0.16',\n",
        "       b'19.0', b'44.0', b'15.0', b'15.0', b'32.0', b'4.0', b'25.0', b'N'], \n",
        "      dtype='|S10')"
       ]
      }
     ],
     "prompt_number": 86
    },
    {
     "cell_type": "code",
     "collapsed": false,
     "input": [
      "kf = cross_validation.KFold(len(data), n_folds=10, shuffle=True)\n",
      "len(kf)"
     ],
     "language": "python",
     "metadata": {},
     "outputs": [
      {
       "metadata": {},
       "output_type": "pyout",
       "prompt_number": 23,
       "text": [
        "10"
       ]
      }
     ],
     "prompt_number": 23
    },
    {
     "cell_type": "code",
     "collapsed": false,
     "input": [],
     "language": "python",
     "metadata": {},
     "outputs": []
    },
    {
     "cell_type": "code",
     "collapsed": false,
     "input": [
      "#for train_index, test_index in kf:\n",
      "#    #print(\"Train indexes:\", train_index, \"\\nTest indexes:\", test_index)\n",
      "#    X_train = data[train_index]\n",
      "#    X_test = data[test_index]\n",
      "    \n",
      "    # fit the model\n",
      "#    clf = svm.SVC()\n",
      "    #clf.fi\n",
      "-c:1: DeprecationWarningt(features, labels)"
     ],
     "language": "python",
     "metadata": {},
     "outputs": [
      {
       "ename": "IndexError",
       "evalue": "invalid index",
       "output_type": "pyerr",
       "traceback": [
        "\u001b[1;31m---------------------------------------------------------------------------\u001b[0m\n\u001b[1;31mIndexError\u001b[0m                                Traceback (most recent call last)",
        "\u001b[1;32m<ipython-input-56-b3b7b70c7774>\u001b[0m in \u001b[0;36m<module>\u001b[1;34m()\u001b[0m\n\u001b[0;32m      4\u001b[0m     \u001b[0mX_test\u001b[0m \u001b[1;33m=\u001b[0m \u001b[0mdata\u001b[0m\u001b[1;33m[\u001b[0m\u001b[0mtest_index\u001b[0m\u001b[1;33m]\u001b[0m\u001b[1;33m\u001b[0m\u001b[0m\n\u001b[0;32m      5\u001b[0m \u001b[1;33m\u001b[0m\u001b[0m\n\u001b[1;32m----> 6\u001b[1;33m     \u001b[0mprint\u001b[0m\u001b[1;33m(\u001b[0m\u001b[0mX_train\u001b[0m\u001b[1;33m[\u001b[0m\u001b[1;36m0\u001b[0m\u001b[1;33m]\u001b[0m\u001b[1;33m[\u001b[0m\u001b[1;36m1\u001b[0m\u001b[1;33m:\u001b[0m\u001b[1;36m36\u001b[0m\u001b[1;33m]\u001b[0m\u001b[1;33m)\u001b[0m\u001b[1;33m\u001b[0m\u001b[0m\n\u001b[0m\u001b[0;32m      7\u001b[0m \u001b[1;33m\u001b[0m\u001b[0m\n\u001b[0;32m      8\u001b[0m     \u001b[1;31m# fit the model\u001b[0m\u001b[1;33m\u001b[0m\u001b[1;33m\u001b[0m\u001b[0m\n",
        "\u001b[1;31mIndexError\u001b[0m: invalid index"
       ]
      }
     ],
     "prompt_number": 56
    },
    {
     "cell_type": "code",
     "collapsed": false,
     "input": [
      "train_data = [d[:-1] for d in new_data[:200]]\n",
      "train_labels = [d[-1] for d in new_data[:200]]\n",
      "\n",
      "test_data = [d[:-1] for d in new_data[200:]]\n",
      "test_labels = [d[-1] for d in new_data[200:]]\n",
      "\n",
      "clf = svm.SVC(probability=True)\n",
      "clf.fit(train_data, train_labels)"
     ],
     "language": "python",
     "metadata": {},
     "outputs": [
      {
       "output_type": "stream",
       "stream": "stderr",
       "text": [
        "/usr/lib/python3.4/site-packages/sklearn/svm/base.py:233: DeprecationWarning: using a non-integer number instead of an integer will result in an error in the future\n",
        "  max_iter=self.max_iter, random_seed=random_seed)\n",
        "/usr/lib/python3.4/site-packages/sklearn/svm/base.py:233: DeprecationWarning: using a non-integer number instead of an integer will result in an error in the future\n",
        "  max_iter=self.max_iter, random_seed=random_seed)\n",
        "/usr/lib/python3.4/site-packages/sklearn/svm/base.py:233: DeprecationWarning: using a non-integer number instead of an integer will result in an error in the future\n",
        "  max_iter=self.max_iter, random_seed=random_seed)\n"
       ]
      },
      {
       "metadata": {},
       "output_type": "pyout",
       "prompt_number": 95,
       "text": [
        "SVC(C=1.0, cache_size=200, class_weight=None, coef0=0.0, degree=3, gamma=0.0,\n",
        "  kernel='rbf', max_iter=-1, probability=True, random_state=None,\n",
        "  shrinking=True, tol=0.001, verbose=False)"
       ]
      }
     ],
     "prompt_number": 95
    },
    {
     "cell_type": "code",
     "collapsed": false,
     "input": [
      "pred_labels = clf.predict(test_data)"
     ],
     "language": "python",
     "metadata": {},
     "outputs": [],
     "prompt_number": 99
    },
    {
     "cell_type": "code",
     "collapsed": false,
     "input": [
      "print(\"SVM Accuracy:\", round(accuracy_score(test_labels, pred_labels), 2))"
     ],
     "language": "python",
     "metadata": {},
     "outputs": [
      {
       "output_type": "stream",
       "stream": "stdout",
       "text": [
        "SVM Accuracy: 0.86\n"
       ]
      }
     ],
     "prompt_number": 110
    },
    {
     "cell_type": "code",
     "collapsed": false,
     "input": [
      "knn = KNeighborsClassifier()\n",
      "knn.fit(train_data, train_labels)"
     ],
     "language": "python",
     "metadata": {},
     "outputs": [
      {
       "metadata": {},
       "output_type": "pyout",
       "prompt_number": 112,
       "text": [
        "KNeighborsClassifier(algorithm='auto', leaf_size=30, metric='minkowski',\n",
        "           n_neighbors=5, p=2, weights='uniform')"
       ]
      }
     ],
     "prompt_number": 112
    }
   ],
   "metadata": {}
  }
 ]
}